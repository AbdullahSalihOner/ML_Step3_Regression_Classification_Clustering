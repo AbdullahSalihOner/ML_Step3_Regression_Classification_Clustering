{
 "cells": [
  {
   "cell_type": "code",
   "execution_count": 79,
   "metadata": {},
   "outputs": [],
   "source": [
    "import pandas as pd \n",
    "import numpy as np  \n",
    "import matplotlib.pyplot as plt"
   ]
  },
  {
   "cell_type": "code",
   "execution_count": 80,
   "metadata": {},
   "outputs": [],
   "source": [
    "#1 First step data colection( data import)\n",
    "data = pd.read_csv('Tr_ev_fiyatlari_v2.csv') # ilk adım veri setini okumak"
   ]
  },
  {
   "cell_type": "code",
   "execution_count": 81,
   "metadata": {},
   "outputs": [
    {
     "data": {
      "text/html": [
       "<div>\n",
       "<style scoped>\n",
       "    .dataframe tbody tr th:only-of-type {\n",
       "        vertical-align: middle;\n",
       "    }\n",
       "\n",
       "    .dataframe tbody tr th {\n",
       "        vertical-align: top;\n",
       "    }\n",
       "\n",
       "    .dataframe thead th {\n",
       "        text-align: right;\n",
       "    }\n",
       "</style>\n",
       "<table border=\"1\" class=\"dataframe\">\n",
       "  <thead>\n",
       "    <tr style=\"text-align: right;\">\n",
       "      <th></th>\n",
       "      <th>fiyat</th>\n",
       "      <th>alan</th>\n",
       "      <th>yatak_odasi</th>\n",
       "      <th>banyo_sayisi</th>\n",
       "      <th>kat_sayisi</th>\n",
       "      <th>anayol_baglanti</th>\n",
       "      <th>misafir_odası</th>\n",
       "      <th>bodrum</th>\n",
       "      <th>sıcak_su</th>\n",
       "      <th>klima</th>\n",
       "      <th>otopark</th>\n",
       "      <th>mob_drm</th>\n",
       "    </tr>\n",
       "  </thead>\n",
       "  <tbody>\n",
       "    <tr>\n",
       "      <th>0</th>\n",
       "      <td>13300000</td>\n",
       "      <td>7420</td>\n",
       "      <td>4</td>\n",
       "      <td>2</td>\n",
       "      <td>3</td>\n",
       "      <td>evet</td>\n",
       "      <td>hayır</td>\n",
       "      <td>hayır</td>\n",
       "      <td>hayır</td>\n",
       "      <td>evet</td>\n",
       "      <td>2</td>\n",
       "      <td>mobilyalı</td>\n",
       "    </tr>\n",
       "    <tr>\n",
       "      <th>1</th>\n",
       "      <td>12250000</td>\n",
       "      <td>8960</td>\n",
       "      <td>4</td>\n",
       "      <td>4</td>\n",
       "      <td>4</td>\n",
       "      <td>evet</td>\n",
       "      <td>hayır</td>\n",
       "      <td>hayır</td>\n",
       "      <td>hayır</td>\n",
       "      <td>evet</td>\n",
       "      <td>3</td>\n",
       "      <td>mobilyalı</td>\n",
       "    </tr>\n",
       "    <tr>\n",
       "      <th>2</th>\n",
       "      <td>12250000</td>\n",
       "      <td>9960</td>\n",
       "      <td>3</td>\n",
       "      <td>2</td>\n",
       "      <td>2</td>\n",
       "      <td>evet</td>\n",
       "      <td>hayır</td>\n",
       "      <td>evet</td>\n",
       "      <td>hayır</td>\n",
       "      <td>hayır</td>\n",
       "      <td>2</td>\n",
       "      <td>yarı mobilyalı</td>\n",
       "    </tr>\n",
       "    <tr>\n",
       "      <th>3</th>\n",
       "      <td>12215000</td>\n",
       "      <td>7500</td>\n",
       "      <td>4</td>\n",
       "      <td>2</td>\n",
       "      <td>2</td>\n",
       "      <td>evet</td>\n",
       "      <td>hayır</td>\n",
       "      <td>evet</td>\n",
       "      <td>hayır</td>\n",
       "      <td>evet</td>\n",
       "      <td>3</td>\n",
       "      <td>mobilyalı</td>\n",
       "    </tr>\n",
       "    <tr>\n",
       "      <th>4</th>\n",
       "      <td>11410000</td>\n",
       "      <td>7420</td>\n",
       "      <td>4</td>\n",
       "      <td>1</td>\n",
       "      <td>2</td>\n",
       "      <td>evet</td>\n",
       "      <td>evet</td>\n",
       "      <td>evet</td>\n",
       "      <td>hayır</td>\n",
       "      <td>evet</td>\n",
       "      <td>2</td>\n",
       "      <td>mobilyalı</td>\n",
       "    </tr>\n",
       "  </tbody>\n",
       "</table>\n",
       "</div>"
      ],
      "text/plain": [
       "      fiyat  alan  yatak_odasi  banyo_sayisi  kat_sayisi anayol_baglanti  \\\n",
       "0  13300000  7420            4             2           3            evet   \n",
       "1  12250000  8960            4             4           4            evet   \n",
       "2  12250000  9960            3             2           2            evet   \n",
       "3  12215000  7500            4             2           2            evet   \n",
       "4  11410000  7420            4             1           2            evet   \n",
       "\n",
       "  misafir_odası bodrum sıcak_su  klima  otopark         mob_drm  \n",
       "0         hayır  hayır    hayır   evet        2       mobilyalı  \n",
       "1         hayır  hayır    hayır   evet        3       mobilyalı  \n",
       "2         hayır   evet    hayır  hayır        2  yarı mobilyalı  \n",
       "3         hayır   evet    hayır   evet        3       mobilyalı  \n",
       "4          evet   evet    hayır   evet        2       mobilyalı  "
      ]
     },
     "execution_count": 81,
     "metadata": {},
     "output_type": "execute_result"
    }
   ],
   "source": [
    "data.head()"
   ]
  },
  {
   "cell_type": "code",
   "execution_count": 82,
   "metadata": {},
   "outputs": [
    {
     "name": "stdout",
     "output_type": "stream",
     "text": [
      "      fiyat  alan  yatak_odasi  banyo_sayisi  kat_sayisi anayol_baglanti  \\\n",
      "0  13300000  7420            4             2           3            evet   \n",
      "1  12250000  8960            4             4           4            evet   \n",
      "2  12250000  9960            3             2           2            evet   \n",
      "3  12215000  7500            4             2           2            evet   \n",
      "4  11410000  7420            4             1           2            evet   \n",
      "\n",
      "  misafir_odası bodrum sıcak_su  klima  otopark         mob_drm  \n",
      "0         hayır  hayır    hayır   evet        2       mobilyalı  \n",
      "1         hayır  hayır    hayır   evet        3       mobilyalı  \n",
      "2         hayır   evet    hayır  hayır        2  yarı mobilyalı  \n",
      "3         hayır   evet    hayır   evet        3       mobilyalı  \n",
      "4          evet   evet    hayır   evet        2       mobilyalı  \n"
     ]
    }
   ],
   "source": [
    "\n",
    "print(data.head())"
   ]
  },
  {
   "cell_type": "code",
   "execution_count": 83,
   "metadata": {},
   "outputs": [
    {
     "name": "stdout",
     "output_type": "stream",
     "text": [
      "<class 'pandas.core.frame.DataFrame'>\n",
      "RangeIndex: 545 entries, 0 to 544\n",
      "Data columns (total 12 columns):\n",
      " #   Column           Non-Null Count  Dtype \n",
      "---  ------           --------------  ----- \n",
      " 0   fiyat            545 non-null    int64 \n",
      " 1   alan             545 non-null    int64 \n",
      " 2   yatak_odasi      545 non-null    int64 \n",
      " 3   banyo_sayisi     545 non-null    int64 \n",
      " 4   kat_sayisi       545 non-null    int64 \n",
      " 5   anayol_baglanti  545 non-null    object\n",
      " 6   misafir_odası    545 non-null    object\n",
      " 7   bodrum           545 non-null    object\n",
      " 8   sıcak_su         545 non-null    object\n",
      " 9   klima            545 non-null    object\n",
      " 10  otopark          545 non-null    int64 \n",
      " 11  mob_drm          545 non-null    object\n",
      "dtypes: int64(6), object(6)\n",
      "memory usage: 51.2+ KB\n",
      "None\n"
     ]
    }
   ],
   "source": [
    "# 2. Data Preprocessing\n",
    "print(data.info())"
   ]
  },
  {
   "cell_type": "code",
   "execution_count": 84,
   "metadata": {},
   "outputs": [
    {
     "name": "stdout",
     "output_type": "stream",
     "text": [
      "              fiyat          alan  yatak_odasi  banyo_sayisi  kat_sayisi  \\\n",
      "count  5.450000e+02    545.000000   545.000000    545.000000  545.000000   \n",
      "mean   4.766729e+06   5150.541284     2.965138      1.286239    1.805505   \n",
      "std    1.870440e+06   2170.141023     0.738064      0.502470    0.867492   \n",
      "min    1.750000e+06   1650.000000     1.000000      1.000000    1.000000   \n",
      "25%    3.430000e+06   3600.000000     2.000000      1.000000    1.000000   \n",
      "50%    4.340000e+06   4600.000000     3.000000      1.000000    2.000000   \n",
      "75%    5.740000e+06   6360.000000     3.000000      2.000000    2.000000   \n",
      "max    1.330000e+07  16200.000000     6.000000      4.000000    4.000000   \n",
      "\n",
      "          otopark  \n",
      "count  545.000000  \n",
      "mean     0.693578  \n",
      "std      0.861586  \n",
      "min      0.000000  \n",
      "25%      0.000000  \n",
      "50%      0.000000  \n",
      "75%      1.000000  \n",
      "max      3.000000  \n"
     ]
    }
   ],
   "source": [
    "print(data.describe())"
   ]
  },
  {
   "cell_type": "code",
   "execution_count": 85,
   "metadata": {},
   "outputs": [
    {
     "data": {
      "text/plain": [
       "Index(['anayol_baglanti', 'misafir_odası', 'bodrum', 'sıcak_su', 'klima',\n",
       "       'mob_drm'],\n",
       "      dtype='object')"
      ]
     },
     "execution_count": 85,
     "metadata": {},
     "output_type": "execute_result"
    }
   ],
   "source": [
    "object_columns = data.select_dtypes(include=['object']).columns  # this code is for object columns, we can use it for object columns\n",
    "object_columns                                                   # bu kod object türündeki sütunları seçmek için kullanılır          "
   ]
  },
  {
   "cell_type": "code",
   "execution_count": 86,
   "metadata": {},
   "outputs": [
    {
     "name": "stdout",
     "output_type": "stream",
     "text": [
      "      fiyat  alan  yatak_odasi  banyo_sayisi  kat_sayisi  otopark  \\\n",
      "0  13300000  7420            4             2           3        2   \n",
      "1  12250000  8960            4             4           4        3   \n",
      "2  12250000  9960            3             2           2        2   \n",
      "\n",
      "   anayol_baglanti_evet  anayol_baglanti_hayır  misafir_odası_evet  \\\n",
      "0                     1                      0                   0   \n",
      "1                     1                      0                   0   \n",
      "2                     1                      0                   0   \n",
      "\n",
      "   misafir_odası_hayır  bodrum_evet  bodrum_hayır  sıcak_su_evet  \\\n",
      "0                    1            0             1              0   \n",
      "1                    1            0             1              0   \n",
      "2                    1            1             0              0   \n",
      "\n",
      "   sıcak_su_hayır  klima_evet  klima_hayır  mob_drm_mobilyalı  \\\n",
      "0               1           1            0                  1   \n",
      "1               1           1            0                  1   \n",
      "2               1           0            1                  0   \n",
      "\n",
      "   mob_drm_mobilyasız  mob_drm_yarı mobilyalı  \n",
      "0                   0                       0  \n",
      "1                   0                       0  \n",
      "2                   0                       1  \n"
     ]
    }
   ],
   "source": [
    "data = pd.get_dummies(data, columns=object_columns) # get_dummies is for object columns, we can use it for object columns\n",
    "print(data.head(3))                                   # get_dummies object türündeki sütunlar için kullanılır"
   ]
  },
  {
   "cell_type": "code",
   "execution_count": 87,
   "metadata": {},
   "outputs": [
    {
     "name": "stdout",
     "output_type": "stream",
     "text": [
      "        fiyat      alan  yatak_odasi  banyo_sayisi  kat_sayisi   otopark  \\\n",
      "0    4.566365  1.046726     1.403419      1.421812    1.378217  1.517692   \n",
      "1    4.004484  1.757010     1.403419      5.405809    2.532024  2.679409   \n",
      "2    4.004484  2.218232     0.047278      1.421812    0.224410  1.517692   \n",
      "3    3.985755  1.083624     1.403419      1.421812    0.224410  2.679409   \n",
      "4    3.554979  1.046726     1.403419     -0.570187    0.224410  1.517692   \n",
      "..        ...       ...          ...           ...         ...       ...   \n",
      "540 -1.576868 -0.991879    -1.308863     -0.570187   -0.929397  1.517692   \n",
      "541 -1.605149 -1.268613     0.047278     -0.570187   -0.929397 -0.805741   \n",
      "542 -1.614327 -0.705921    -1.308863     -0.570187   -0.929397 -0.805741   \n",
      "543 -1.614327 -1.033389     0.047278     -0.570187   -0.929397 -0.805741   \n",
      "544 -1.614327 -0.599839     0.047278     -0.570187    0.224410 -0.805741   \n",
      "\n",
      "     anayol_baglanti_evet  anayol_baglanti_hayır  misafir_odası_evet  \\\n",
      "0                0.405623              -0.405623           -0.465315   \n",
      "1                0.405623              -0.405623           -0.465315   \n",
      "2                0.405623              -0.405623           -0.465315   \n",
      "3                0.405623              -0.405623           -0.465315   \n",
      "4                0.405623              -0.405623            2.149083   \n",
      "..                    ...                    ...                 ...   \n",
      "540              0.405623              -0.405623           -0.465315   \n",
      "541             -2.465344               2.465344           -0.465315   \n",
      "542              0.405623              -0.405623           -0.465315   \n",
      "543             -2.465344               2.465344           -0.465315   \n",
      "544              0.405623              -0.405623           -0.465315   \n",
      "\n",
      "     misafir_odası_hayır  bodrum_evet  bodrum_hayır  sıcak_su_evet  \\\n",
      "0               0.465315    -0.734539      0.734539      -0.219265   \n",
      "1               0.465315    -0.734539      0.734539      -0.219265   \n",
      "2               0.465315     1.361397     -1.361397      -0.219265   \n",
      "3               0.465315     1.361397     -1.361397      -0.219265   \n",
      "4              -2.149083     1.361397     -1.361397      -0.219265   \n",
      "..                   ...          ...           ...            ...   \n",
      "540             0.465315     1.361397     -1.361397      -0.219265   \n",
      "541             0.465315    -0.734539      0.734539      -0.219265   \n",
      "542             0.465315    -0.734539      0.734539      -0.219265   \n",
      "543             0.465315    -0.734539      0.734539      -0.219265   \n",
      "544             0.465315    -0.734539      0.734539      -0.219265   \n",
      "\n",
      "     sıcak_su_hayır  klima_evet  klima_hayır  mob_drm_mobilyalı  \\\n",
      "0          0.219265    1.472618    -1.472618           1.700840   \n",
      "1          0.219265    1.472618    -1.472618           1.700840   \n",
      "2          0.219265   -0.679063     0.679063          -0.587945   \n",
      "3          0.219265    1.472618    -1.472618           1.700840   \n",
      "4          0.219265    1.472618    -1.472618           1.700840   \n",
      "..              ...         ...          ...                ...   \n",
      "540        0.219265   -0.679063     0.679063          -0.587945   \n",
      "541        0.219265   -0.679063     0.679063          -0.587945   \n",
      "542        0.219265   -0.679063     0.679063          -0.587945   \n",
      "543        0.219265   -0.679063     0.679063           1.700840   \n",
      "544        0.219265   -0.679063     0.679063          -0.587945   \n",
      "\n",
      "     mob_drm_mobilyasız  mob_drm_yarı mobilyalı  \n",
      "0             -0.696429               -0.844888  \n",
      "1             -0.696429               -0.844888  \n",
      "2             -0.696429                1.183588  \n",
      "3             -0.696429               -0.844888  \n",
      "4             -0.696429               -0.844888  \n",
      "..                  ...                     ...  \n",
      "540            1.435896               -0.844888  \n",
      "541           -0.696429                1.183588  \n",
      "542            1.435896               -0.844888  \n",
      "543           -0.696429               -0.844888  \n",
      "544            1.435896               -0.844888  \n",
      "\n",
      "[545 rows x 19 columns]\n"
     ]
    }
   ],
   "source": [
    "from sklearn.preprocessing import StandardScaler\n",
    "scaler = StandardScaler()\n",
    "normalized_data = scaler.fit_transform(data)   \n",
    "data_normalized = pd.DataFrame(data=normalized_data, columns=data.columns) # we normalized the data\n",
    "print(data_normalized)                                                      # veriyi normalize ettik"
   ]
  },
  {
   "cell_type": "code",
   "execution_count": 88,
   "metadata": {},
   "outputs": [
    {
     "name": "stdout",
     "output_type": "stream",
     "text": [
      "      fiyat      alan  yatak_odasi  banyo_sayisi  kat_sayisi   otopark  \\\n",
      "0  1.000000  0.396564          0.6      0.333333    0.666667  0.666667   \n",
      "1  0.909091  0.502405          0.6      1.000000    1.000000  1.000000   \n",
      "2  0.909091  0.571134          0.4      0.333333    0.333333  0.666667   \n",
      "3  0.906061  0.402062          0.6      0.333333    0.333333  1.000000   \n",
      "4  0.836364  0.396564          0.6      0.000000    0.333333  0.666667   \n",
      "\n",
      "   anayol_baglanti_evet  anayol_baglanti_hayır  misafir_odası_evet  \\\n",
      "0                   1.0                    0.0                 0.0   \n",
      "1                   1.0                    0.0                 0.0   \n",
      "2                   1.0                    0.0                 0.0   \n",
      "3                   1.0                    0.0                 0.0   \n",
      "4                   1.0                    0.0                 1.0   \n",
      "\n",
      "   misafir_odası_hayır  bodrum_evet  bodrum_hayır  sıcak_su_evet  \\\n",
      "0                  1.0          0.0           1.0            0.0   \n",
      "1                  1.0          0.0           1.0            0.0   \n",
      "2                  1.0          1.0           0.0            0.0   \n",
      "3                  1.0          1.0           0.0            0.0   \n",
      "4                  0.0          1.0           0.0            0.0   \n",
      "\n",
      "   sıcak_su_hayır  klima_evet  klima_hayır  mob_drm_mobilyalı  \\\n",
      "0             1.0         1.0          0.0                1.0   \n",
      "1             1.0         1.0          0.0                1.0   \n",
      "2             1.0         0.0          1.0                0.0   \n",
      "3             1.0         1.0          0.0                1.0   \n",
      "4             1.0         1.0          0.0                1.0   \n",
      "\n",
      "   mob_drm_mobilyasız  mob_drm_yarı mobilyalı  \n",
      "0                 0.0                     0.0  \n",
      "1                 0.0                     0.0  \n",
      "2                 0.0                     1.0  \n",
      "3                 0.0                     0.0  \n",
      "4                 0.0                     0.0  \n"
     ]
    }
   ],
   "source": [
    "from sklearn.preprocessing import MinMaxScaler  # we normalized the data\n",
    "scaler = MinMaxScaler()\n",
    "normalized_data = scaler.fit_transform(data)\n",
    "data_normalized = pd.DataFrame(data=normalized_data, columns=data.columns)\n",
    "print(data_normalized.head())"
   ]
  },
  {
   "cell_type": "code",
   "execution_count": 89,
   "metadata": {},
   "outputs": [],
   "source": [
    "y = data_normalized[\"fiyat\"] # we seperated the data\n",
    "x = data_normalized.drop(\"fiyat\", axis=1)"
   ]
  },
  {
   "cell_type": "code",
   "execution_count": 90,
   "metadata": {},
   "outputs": [
    {
     "name": "stdout",
     "output_type": "stream",
     "text": [
      "0    1.000000\n",
      "1    0.909091\n",
      "2    0.909091\n",
      "3    0.906061\n",
      "4    0.836364\n",
      "Name: fiyat, dtype: float64\n",
      "       alan  yatak_odasi  banyo_sayisi  kat_sayisi   otopark  \\\n",
      "0  0.396564          0.6      0.333333    0.666667  0.666667   \n",
      "1  0.502405          0.6      1.000000    1.000000  1.000000   \n",
      "2  0.571134          0.4      0.333333    0.333333  0.666667   \n",
      "3  0.402062          0.6      0.333333    0.333333  1.000000   \n",
      "4  0.396564          0.6      0.000000    0.333333  0.666667   \n",
      "\n",
      "   anayol_baglanti_evet  anayol_baglanti_hayır  misafir_odası_evet  \\\n",
      "0                   1.0                    0.0                 0.0   \n",
      "1                   1.0                    0.0                 0.0   \n",
      "2                   1.0                    0.0                 0.0   \n",
      "3                   1.0                    0.0                 0.0   \n",
      "4                   1.0                    0.0                 1.0   \n",
      "\n",
      "   misafir_odası_hayır  bodrum_evet  bodrum_hayır  sıcak_su_evet  \\\n",
      "0                  1.0          0.0           1.0            0.0   \n",
      "1                  1.0          0.0           1.0            0.0   \n",
      "2                  1.0          1.0           0.0            0.0   \n",
      "3                  1.0          1.0           0.0            0.0   \n",
      "4                  0.0          1.0           0.0            0.0   \n",
      "\n",
      "   sıcak_su_hayır  klima_evet  klima_hayır  mob_drm_mobilyalı  \\\n",
      "0             1.0         1.0          0.0                1.0   \n",
      "1             1.0         1.0          0.0                1.0   \n",
      "2             1.0         0.0          1.0                0.0   \n",
      "3             1.0         1.0          0.0                1.0   \n",
      "4             1.0         1.0          0.0                1.0   \n",
      "\n",
      "   mob_drm_mobilyasız  mob_drm_yarı mobilyalı  \n",
      "0                 0.0                     0.0  \n",
      "1                 0.0                     0.0  \n",
      "2                 0.0                     1.0  \n",
      "3                 0.0                     0.0  \n",
      "4                 0.0                     0.0  \n"
     ]
    }
   ],
   "source": [
    "print(y.head())\n",
    "print(x.head()) "
   ]
  },
  {
   "cell_type": "code",
   "execution_count": 91,
   "metadata": {},
   "outputs": [],
   "source": [
    "from sklearn.model_selection import train_test_split\n",
    "xtrain, xtest, ytrain, ytest = train_test_split(x, y, test_size=0.20, random_state=7) # we seperated the data for train and test / veriyi train ve test için ayırdık"
   ]
  },
  {
   "cell_type": "code",
   "execution_count": 92,
   "metadata": {},
   "outputs": [
    {
     "data": {
      "text/html": [
       "<style>#sk-container-id-5 {color: black;}#sk-container-id-5 pre{padding: 0;}#sk-container-id-5 div.sk-toggleable {background-color: white;}#sk-container-id-5 label.sk-toggleable__label {cursor: pointer;display: block;width: 100%;margin-bottom: 0;padding: 0.3em;box-sizing: border-box;text-align: center;}#sk-container-id-5 label.sk-toggleable__label-arrow:before {content: \"▸\";float: left;margin-right: 0.25em;color: #696969;}#sk-container-id-5 label.sk-toggleable__label-arrow:hover:before {color: black;}#sk-container-id-5 div.sk-estimator:hover label.sk-toggleable__label-arrow:before {color: black;}#sk-container-id-5 div.sk-toggleable__content {max-height: 0;max-width: 0;overflow: hidden;text-align: left;background-color: #f0f8ff;}#sk-container-id-5 div.sk-toggleable__content pre {margin: 0.2em;color: black;border-radius: 0.25em;background-color: #f0f8ff;}#sk-container-id-5 input.sk-toggleable__control:checked~div.sk-toggleable__content {max-height: 200px;max-width: 100%;overflow: auto;}#sk-container-id-5 input.sk-toggleable__control:checked~label.sk-toggleable__label-arrow:before {content: \"▾\";}#sk-container-id-5 div.sk-estimator input.sk-toggleable__control:checked~label.sk-toggleable__label {background-color: #d4ebff;}#sk-container-id-5 div.sk-label input.sk-toggleable__control:checked~label.sk-toggleable__label {background-color: #d4ebff;}#sk-container-id-5 input.sk-hidden--visually {border: 0;clip: rect(1px 1px 1px 1px);clip: rect(1px, 1px, 1px, 1px);height: 1px;margin: -1px;overflow: hidden;padding: 0;position: absolute;width: 1px;}#sk-container-id-5 div.sk-estimator {font-family: monospace;background-color: #f0f8ff;border: 1px dotted black;border-radius: 0.25em;box-sizing: border-box;margin-bottom: 0.5em;}#sk-container-id-5 div.sk-estimator:hover {background-color: #d4ebff;}#sk-container-id-5 div.sk-parallel-item::after {content: \"\";width: 100%;border-bottom: 1px solid gray;flex-grow: 1;}#sk-container-id-5 div.sk-label:hover label.sk-toggleable__label {background-color: #d4ebff;}#sk-container-id-5 div.sk-serial::before {content: \"\";position: absolute;border-left: 1px solid gray;box-sizing: border-box;top: 0;bottom: 0;left: 50%;z-index: 0;}#sk-container-id-5 div.sk-serial {display: flex;flex-direction: column;align-items: center;background-color: white;padding-right: 0.2em;padding-left: 0.2em;position: relative;}#sk-container-id-5 div.sk-item {position: relative;z-index: 1;}#sk-container-id-5 div.sk-parallel {display: flex;align-items: stretch;justify-content: center;background-color: white;position: relative;}#sk-container-id-5 div.sk-item::before, #sk-container-id-5 div.sk-parallel-item::before {content: \"\";position: absolute;border-left: 1px solid gray;box-sizing: border-box;top: 0;bottom: 0;left: 50%;z-index: -1;}#sk-container-id-5 div.sk-parallel-item {display: flex;flex-direction: column;z-index: 1;position: relative;background-color: white;}#sk-container-id-5 div.sk-parallel-item:first-child::after {align-self: flex-end;width: 50%;}#sk-container-id-5 div.sk-parallel-item:last-child::after {align-self: flex-start;width: 50%;}#sk-container-id-5 div.sk-parallel-item:only-child::after {width: 0;}#sk-container-id-5 div.sk-dashed-wrapped {border: 1px dashed gray;margin: 0 0.4em 0.5em 0.4em;box-sizing: border-box;padding-bottom: 0.4em;background-color: white;}#sk-container-id-5 div.sk-label label {font-family: monospace;font-weight: bold;display: inline-block;line-height: 1.2em;}#sk-container-id-5 div.sk-label-container {text-align: center;}#sk-container-id-5 div.sk-container {/* jupyter's `normalize.less` sets `[hidden] { display: none; }` but bootstrap.min.css set `[hidden] { display: none !important; }` so we also need the `!important` here to be able to override the default hidden behavior on the sphinx rendered scikit-learn.org. See: https://github.com/scikit-learn/scikit-learn/issues/21755 */display: inline-block !important;position: relative;}#sk-container-id-5 div.sk-text-repr-fallback {display: none;}</style><div id=\"sk-container-id-5\" class=\"sk-top-container\"><div class=\"sk-text-repr-fallback\"><pre>LinearRegression()</pre><b>In a Jupyter environment, please rerun this cell to show the HTML representation or trust the notebook. <br />On GitHub, the HTML representation is unable to render, please try loading this page with nbviewer.org.</b></div><div class=\"sk-container\" hidden><div class=\"sk-item\"><div class=\"sk-estimator sk-toggleable\"><input class=\"sk-toggleable__control sk-hidden--visually\" id=\"sk-estimator-id-5\" type=\"checkbox\" checked><label for=\"sk-estimator-id-5\" class=\"sk-toggleable__label sk-toggleable__label-arrow\">LinearRegression</label><div class=\"sk-toggleable__content\"><pre>LinearRegression()</pre></div></div></div></div></div>"
      ],
      "text/plain": [
       "LinearRegression()"
      ]
     },
     "execution_count": 92,
     "metadata": {},
     "output_type": "execute_result"
    }
   ],
   "source": [
    "#3) Model Building\n",
    "#Choosing the model \n",
    "from sklearn.linear_model import LinearRegression   # we choose the model / modeli seçtik\n",
    "model = LinearRegression()\n",
    "#training the model\n",
    "model.fit(xtrain, ytrain)   # we trained the model / modeli eğittik"
   ]
  },
  {
   "cell_type": "code",
   "execution_count": 93,
   "metadata": {},
   "outputs": [],
   "source": [
    "ypred = model.predict(xtest)"
   ]
  },
  {
   "cell_type": "code",
   "execution_count": 94,
   "metadata": {},
   "outputs": [
    {
     "data": {
      "text/plain": [
       "542    0.000000\n",
       "70     0.436364\n",
       "504    0.078182\n",
       "221    0.261212\n",
       "519    0.060606\n",
       "         ...   \n",
       "364    0.169091\n",
       "244    0.242424\n",
       "453    0.121212\n",
       "506    0.073939\n",
       "496    0.081818\n",
       "Name: fiyat, Length: 109, dtype: float64"
      ]
     },
     "execution_count": 94,
     "metadata": {},
     "output_type": "execute_result"
    }
   ],
   "source": [
    "ytest"
   ]
  },
  {
   "cell_type": "code",
   "execution_count": 95,
   "metadata": {},
   "outputs": [
    {
     "data": {
      "text/plain": [
       "109"
      ]
     },
     "execution_count": 95,
     "metadata": {},
     "output_type": "execute_result"
    }
   ],
   "source": [
    "len(ypred)"
   ]
  },
  {
   "cell_type": "code",
   "execution_count": 96,
   "metadata": {},
   "outputs": [],
   "source": [
    "#4) Model Evaluation - Testing / Model Değerlendirme - Test\n",
    "from sklearn.metrics import r2_score\n",
    "import matplotlib.pyplot as plt\n"
   ]
  },
  {
   "cell_type": "code",
   "execution_count": 97,
   "metadata": {},
   "outputs": [
    {
     "name": "stdout",
     "output_type": "stream",
     "text": [
      "Modelin doğruluk oranı: 0.64\n"
     ]
    },
    {
     "data": {
      "image/png": "[encoded data removed]",
      "text/plain": [
       "<Figure size 640x480 with 1 Axes>"
      ]
     },
     "metadata": {},
     "output_type": "display_data"
    }
   ],
   "source": [
    "y_pred = model.predict(xtest)\n",
    "r2 = r2_score(ytest, y_pred)\n",
    "print(f\"Modelin doğruluk oranı: {r2:.2f}\")\n",
    "\n",
    "plt.scatter(ytest, y_pred)\n",
    "plt.plot(y_pred, y_pred, color='red')\n",
    "plt.xlabel(\"True Values\")   \n",
    "plt.ylabel(\"Predictions of Regression\")  \n",
    "plt.show() "
   ]
  },
  {
   "cell_type": "code",
   "execution_count": 98,
   "metadata": {},
   "outputs": [
    {
     "name": "stdout",
     "output_type": "stream",
     "text": [
      "Evin özelliklerini giriniz\n"
     ]
    },
    {
     "ename": "ValueError",
     "evalue": "invalid literal for int() with base 10: ''",
     "output_type": "error",
     "traceback": [
      "\u001b[1;31m---------------------------------------------------------------------------\u001b[0m",
      "\u001b[1;31mValueError\u001b[0m                                Traceback (most recent call last)",
      "Cell \u001b[1;32mIn[98], line 4\u001b[0m\n\u001b[0;32m      2\u001b[0m \u001b[38;5;28mprint\u001b[39m(\u001b[38;5;124m\"\u001b[39m\u001b[38;5;124mEvin özelliklerini giriniz\u001b[39m\u001b[38;5;124m\"\u001b[39m)\n\u001b[0;32m      3\u001b[0m ozellik\u001b[38;5;241m=\u001b[39m[]\n\u001b[1;32m----> 4\u001b[0m ozellik\u001b[38;5;241m.\u001b[39mappend(\u001b[38;5;28mint\u001b[39m(\u001b[38;5;28minput\u001b[39m(\u001b[38;5;124m\"\u001b[39m\u001b[38;5;124mEvin büyüklüğü bahçe dahil           : \u001b[39m\u001b[38;5;124m\"\u001b[39m)))\n\u001b[0;32m      5\u001b[0m ozellik\u001b[38;5;241m.\u001b[39mappend(\u001b[38;5;28mint\u001b[39m(\u001b[38;5;28minput\u001b[39m(\u001b[38;5;124m\"\u001b[39m\u001b[38;5;124mYatak odası sayısı                   : \u001b[39m\u001b[38;5;124m\"\u001b[39m)))\n\u001b[0;32m      6\u001b[0m ozellik\u001b[38;5;241m.\u001b[39mappend(\u001b[38;5;28mint\u001b[39m(\u001b[38;5;28minput\u001b[39m(\u001b[38;5;124m\"\u001b[39m\u001b[38;5;124mBanyo sayısı                         : \u001b[39m\u001b[38;5;124m\"\u001b[39m)))\n",
      "\u001b[1;31mValueError\u001b[0m: invalid literal for int() with base 10: ''"
     ]
    }
   ],
   "source": [
    "#5 \n",
    "print(\"Evin özelliklerini giriniz\")\n",
    "ozellik=[]\n",
    "ozellik.append(int(input(\"Evin büyüklüğü bahçe dahil           : \")))\n",
    "ozellik.append(int(input(\"Yatak odası sayısı                   : \")))\n",
    "ozellik.append(int(input(\"Banyo sayısı                         : \")))\n",
    "ozellik.append(int(input(\"Kat sayısı                           : \")))\n",
    "ozellik.append(int(input(\"Otopark sayısı                       : \")))\n",
    "ozellik.append(int(input(\"Ana yol bağlantısı var mı? [E=1/H=0] : \")))\n",
    "ozellik.append(int(input(\"Misafir odası var mı?      [E=1/H=0] : \")))\n",
    "ozellik.append(int(input(\"Bodrumu var mı?            [E=1/H=0] : \")))\n",
    "ozellik.append(int(input(\"Sıcak su var mı?           [E=1/H=0] : \")))\n",
    "ozellik.append(int(input(\"Klima var mı?              [E=1/H=0] : \")))\n",
    "ozellik.append(int(input(\"Tam mobilyalı mı?          [E=1/H=0] : \")))\n",
    "ozellik.append(int(input(\"Yarım mobilyalı mı?        [E=1/H=0] : \")))\n",
    "print(ozellik)\n",
    "tahmini_fiyat= model.predict([ozellik])\n",
    "print(\"--------------------------------------------\")\n",
    "print(\"Tahmini ev fiyatı:\",int(tahmini_fiyat),\"...\")\n",
    "print(\"--------------------------------------------\")"
   ]
  }
 ],
 "metadata": {
  "kernelspec": {
   "display_name": "base",
   "language": "python",
   "name": "python3"
  },
  "language_info": {
   "codemirror_mode": {
    "name": "ipython",
    "version": 3
   },
   "file_extension": ".py",
   "mimetype": "text/x-python",
   "name": "python",
   "nbconvert_exporter": "python",
   "pygments_lexer": "ipython3",
   "version": "3.11.4"
  }
 },
 "nbformat": 4,
 "nbformat_minor": 2
}
